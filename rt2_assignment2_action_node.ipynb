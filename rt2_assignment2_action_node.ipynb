{
 "cells": [
  {
   "cell_type": "markdown",
   "metadata": {},
   "source": [
    "# Research Track 2  --- Assignment 2 ---"
   ]
  },
  {
   "cell_type": "code",
   "execution_count": 1,
   "metadata": {},
   "outputs": [],
   "source": [
    "#!/usr/bin/env python3\n",
    "%matplotlib widget\n",
    "\n",
    "import sys\n",
    "sys.path.append('/root/ros_ws/devel/lib/python3/dist-packages')\n",
    "import rospy\n",
    "import threading\n",
    "import actionlib\n",
    "import sensor_msgs.msg\n",
    "import ipywidgets as widgets\n",
    "import matplotlib.pyplot as plt\n",
    "from nav_msgs.msg import Odometry\n",
    "from geometry_msgs.msg import Twist\n",
    "from my_assignment2.msg import PositionVelocity\n",
    "from assignment_2_2024.msg import PlanningAction, PlanningGoal\n",
    "from IPython.display import display, clear_output\n",
    "from matplotlib.animation import FuncAnimation\n",
    "from ipywidgets import HBox"
   ]
  },
  {
   "cell_type": "code",
   "execution_count": 2,
   "metadata": {},
   "outputs": [],
   "source": [
    "# --- Global publishers ---\n",
    "robot_state_pub = None\n",
    "cmd_vel_pub = None\n",
    "\n",
    "# --- Global variable ---\n",
    "robot_state = PositionVelocity()\n",
    "goal_client = None\n",
    "cancel_requested = False\n",
    "\n",
    "# Lists of past x and y positions of robot\n",
    "positions_x = []\n",
    "positions_y = []\n",
    "\n",
    "# Counters for reached and not reached goals\n",
    "num_reached = 0\n",
    "num_not_reached = 0"
   ]
  },
  {
   "cell_type": "markdown",
   "metadata": {},
   "source": [
    "## 1. Interface to assign or cancel goals"
   ]
  },
  {
   "cell_type": "code",
   "execution_count": 3,
   "metadata": {
    "scrolled": true
   },
   "outputs": [
    {
     "data": {
      "application/vnd.jupyter.widget-view+json": {
       "model_id": "29bfb59b0d204146b3ce5f4493a45ae9",
       "version_major": 2,
       "version_minor": 0
      },
      "text/plain": [
       "FloatText(value=1.0, description='Target x:')"
      ]
     },
     "metadata": {},
     "output_type": "display_data"
    },
    {
     "data": {
      "application/vnd.jupyter.widget-view+json": {
       "model_id": "dbbaa73969cf471d914130804f44cc41",
       "version_major": 2,
       "version_minor": 0
      },
      "text/plain": [
       "FloatText(value=1.0, description='Target y:')"
      ]
     },
     "metadata": {},
     "output_type": "display_data"
    },
    {
     "data": {
      "application/vnd.jupyter.widget-view+json": {
       "model_id": "981e9f7af2ba4e79aa9a33f77c1a0ec1",
       "version_major": 2,
       "version_minor": 0
      },
      "text/plain": [
       "HBox(children=(Button(button_style='success', description='Send Goal', style=ButtonStyle()), Button(button_sty…"
      ]
     },
     "metadata": {},
     "output_type": "display_data"
    },
    {
     "name": "stdout",
     "output_type": "stream",
     "text": [
      "[INFO] [1746805657.866271, 2446.388000]: Goal sending process...\n",
      "[INFO] [1746805657.874207, 2446.399000]: Goal sent: x=3.0, y=1.0\n",
      "[INFO] [1746805672.857119, 2460.719000]: Goal sending process...\n",
      "[INFO] [1746805672.864077, 2460.723000]: Goal sent: x=3.0, y=2.0\n"
     ]
    }
   ],
   "source": [
    "# Input\n",
    "x_input = widgets.FloatText(\n",
    "    description='Target x:',\n",
    "    value=1.0\n",
    ")\n",
    "y_input = widgets.FloatText(\n",
    "    description='Target y:',\n",
    "    value=1.0\n",
    ")\n",
    "\n",
    "# Send and cancel goal\n",
    "send_goal_button = widgets.Button(\n",
    "    description='Send Goal',\n",
    "    button_style='success'\n",
    ")\n",
    "\n",
    "cancel_goal_button = widgets.Button(\n",
    "    description='Cancel Goal',\n",
    "    button_style='danger'\n",
    ")\n",
    "\n",
    "display(x_input, y_input)\n",
    "button_box = HBox([send_goal_button, cancel_goal_button])\n",
    "display(button_box)"
   ]
  },
  {
   "cell_type": "markdown",
   "metadata": {},
   "source": [
    "## 2. Trajectory and positions of the robot"
   ]
  },
  {
   "cell_type": "code",
   "execution_count": 4,
   "metadata": {
    "scrolled": false
   },
   "outputs": [
    {
     "data": {
      "application/vnd.jupyter.widget-view+json": {
       "model_id": "037f5bb9986a4e39b6619eead1cc8382",
       "version_major": 2,
       "version_minor": 0
      },
      "text/plain": [
       "HTML(value='<b>Current Robot Position<b>: (x=0.0, y=0.0)')"
      ]
     },
     "metadata": {},
     "output_type": "display_data"
    },
    {
     "data": {
      "application/vnd.jupyter.widget-view+json": {
       "model_id": "15ce9153585a4fa094405f7b54f71e20",
       "version_major": 2,
       "version_minor": 0
      },
      "text/plain": [
       "Output()"
      ]
     },
     "metadata": {},
     "output_type": "display_data"
    }
   ],
   "source": [
    "# Label to display current robot position\n",
    "robot_position_label = widgets.HTML(\n",
    "    value='<b>Current Robot Position<b>: (x=0.0, y=0.0)'\n",
    ")\n",
    "display(robot_position_label)\n",
    "\n",
    "out1 = widgets.Output()\n",
    "plt.ioff()  # auto-display無効化\n",
    "fig, ax = plt.subplots()\n",
    "ax.set_xlim(-10, 10)\n",
    "ax.set_ylim(-10, 10)\n",
    "ax.set_title('Robot Trajectory')\n",
    "line, = ax.plot([], [], 'b-')\n",
    "\n",
    "with out1:\n",
    "    display(fig.canvas)  # ✅ display(fig.canvas) → canvasオブジェクトを直接渡す\n",
    "\n",
    "def init():\n",
    "    return line,\n",
    "\n",
    "def update(frame):\n",
    "    global positions_x, positions_y\n",
    "    line.set_data(positions_x, positions_y)\n",
    "    return line,\n",
    "\n",
    "ani = FuncAnimation(fig, update, init_func=init, blit=False, interval=500)\n",
    "\n",
    "display(out1)"
   ]
  },
  {
   "cell_type": "markdown",
   "metadata": {},
   "source": [
    "## 3. Distance from the closest obstacle"
   ]
  },
  {
   "cell_type": "code",
   "execution_count": 5,
   "metadata": {},
   "outputs": [
    {
     "data": {
      "application/vnd.jupyter.widget-view+json": {
       "model_id": "1569398a47924d19a7f4c15f31a3474a",
       "version_major": 2,
       "version_minor": 0
      },
      "text/plain": [
       "HTML(value='<b>Closest Obstacle Distance<b>: Unknown')"
      ]
     },
     "metadata": {},
     "output_type": "display_data"
    }
   ],
   "source": [
    "obstacle_distance_label = widgets.HTML(\n",
    "    value='<b>Closest Obstacle Distance<b>: Unknown'\n",
    ")\n",
    "display(obstacle_distance_label)"
   ]
  },
  {
   "cell_type": "markdown",
   "metadata": {},
   "source": [
    "## 4. The number of reached/not-reached targets"
   ]
  },
  {
   "cell_type": "code",
   "execution_count": 6,
   "metadata": {
    "scrolled": true
   },
   "outputs": [
    {
     "data": {
      "application/vnd.jupyter.widget-view+json": {
       "model_id": "bb3977975fab48bd94709cd8af5118dc",
       "version_major": 2,
       "version_minor": 0
      },
      "text/plain": [
       "Output()"
      ]
     },
     "metadata": {},
     "output_type": "display_data"
    }
   ],
   "source": [
    "out2 = widgets.Output()\n",
    "global num_reached, num_not_reached\n",
    "\n",
    "with out2:\n",
    "    plt.ioff()\n",
    "    fig, ax = plt.subplots()\n",
    "    bars = ax.bar(['Reached', 'Not Reached'], [num_reached, num_not_reached], color=['green', 'red'])\n",
    "    ax.set_ylim(0, 10)\n",
    "    ax.set_title('The number of reached/not-reached targets')\n",
    "    fig.tight_layout()\n",
    "    fig.canvas.header_visible = False\n",
    "\n",
    "    display(fig.canvas)\n",
    "    \n",
    "def update_bar():\n",
    "    bars[0].set_height(num_reached)\n",
    "    bars[1].set_height(num_not_reached)\n",
    "    fig.canvas.draw_idle()  \n",
    "    \n",
    "display(out2)"
   ]
  },
  {
   "cell_type": "markdown",
   "metadata": {},
   "source": [
    "### Functions"
   ]
  },
  {
   "cell_type": "code",
   "execution_count": 7,
   "metadata": {},
   "outputs": [],
   "source": [
    "def odom_callback(msg):\n",
    "    # Callback function for the /odom topic\n",
    "    global robot_state\n",
    "    \n",
    "    robot_state.x = msg.pose.pose.position.x\n",
    "    robot_state.y = msg.pose.pose.position.y\n",
    "    robot_state.vel_x = msg.twist.twist.linear.x\n",
    "    robot_state.vel_z = msg.twist.twist.angular.z\n",
    "    \n",
    "    # Store the position\n",
    "    positions_x.append(robot_state.x)\n",
    "    positions_y.append(robot_state.y)\n",
    "    \n",
    "    # Update the robot current location\n",
    "    robot_position_label.value = f\"<b>Current Robot Position<b>: (x={robot_state.x:.2f}, y={robot_state.y:.2f})\"\n",
    "\n",
    "    # Publish the robot status\n",
    "    robot_state_pub.publish(robot_state)"
   ]
  },
  {
   "cell_type": "code",
   "execution_count": 8,
   "metadata": {},
   "outputs": [],
   "source": [
    "def scan_callback(msg):\n",
    "    # Callback function for the /scan topic\n",
    "    valid_ranges = [r for r in msg.ranges if not (r == float('inf') or r != r)]\n",
    "    if valid_ranges:\n",
    "        closest_obstacle = min(valid_ranges)\n",
    "    else:\n",
    "        closest_obstacle = float('inf')\n",
    "    obstacle_distance_label.value = f\"<b>Closest Obstacle Distance:<b> {closest_obstacle:.2f} m\""
   ]
  },
  {
   "cell_type": "code",
   "execution_count": 9,
   "metadata": {},
   "outputs": [],
   "source": [
    "def check_goal_result_callback(status, result):\n",
    "    # Callback function to check the goal status\n",
    "    global num_reached, num_not_reached\n",
    "    \n",
    "    print(\"check_goal_result_callback is called\")\n",
    "    \n",
    "    if status == actionlib.GoalStatus.SUCCEEDED:\n",
    "        print(\"The goal has been reached!\")\n",
    "        num_reached += 1\n",
    "        rospy.loginfo(num_reached)\n",
    "        rospy.loginfo(num_not_reached)\n",
    "\n",
    "    elif status in [actionlib.GoalStatus.PREEMPTED, actionlib.GoalStatus.ABORTED]:\n",
    "        rospy.loginfo(\"The goal has not been reached!\")\n",
    "        num_not_reached += 1\n",
    "    else:\n",
    "        rospy.loginfo(f\"goal status: {status}\")\n",
    "    update_bar()"
   ]
  },
  {
   "cell_type": "code",
   "execution_count": 10,
   "metadata": {},
   "outputs": [],
   "source": [
    "def send_goal_handler(b):\n",
    "    # Function to send the goal when the 'send_goal_button' is pressed \n",
    "    global cancel_requested\n",
    "    rospy.loginfo(\"Goal sending process...\")\n",
    "\n",
    "    rospy.set_param('/des_pos_x', x_input.value)\n",
    "    rospy.set_param('/des_pos_y', y_input.value)\n",
    "\n",
    "    goal = PlanningGoal()\n",
    "    goal.target_pose.header.frame_id = \"map\" \n",
    "    goal.target_pose.pose.position.x = x_input.value\n",
    "    goal.target_pose.pose.position.y = y_input.value\n",
    "    goal.target_pose.pose.orientation.w = 1.0 \n",
    "\n",
    "    goal_client.send_goal(goal, done_cb=check_goal_result_callback)\n",
    "    cancel_requested = False\n",
    "    rospy.loginfo(f\"Goal sent: x={x_input.value}, y={y_input.value}\")"
   ]
  },
  {
   "cell_type": "code",
   "execution_count": 11,
   "metadata": {},
   "outputs": [],
   "source": [
    "def cancel_goal_handler(b):\n",
    "    # Function to send the goal when the 'cancel_goal_button' is pressed\n",
    "    global cancel_requested, num_not_reached\n",
    "\n",
    "    if goal_client.get_state() in [actionlib.GoalStatus.ACTIVE, actionlib.GoalStatus.PENDING]:\n",
    "        print(goal_client.get_state())\n",
    "        goal_client.cancel_goal()\n",
    "        stop_robot()\n",
    "        cancel_requested = True\n",
    "        rospy.logwarn(\"Goal canceled by user.\")\n",
    "    else:\n",
    "        rospy.logwarn(\"No active goal to cancel.\")"
   ]
  },
  {
   "cell_type": "code",
   "execution_count": 12,
   "metadata": {},
   "outputs": [],
   "source": [
    "def stop_robot():\n",
    "    # Function to stop the robot\n",
    "    stop_msg = Twist()\n",
    "    stop_msg.linear.x = 0.0\n",
    "    stop_msg.angular.z = 0.0\n",
    "    cmd_vel_pub.publish(stop_msg)\n",
    "    rospy.loginfo(\"Robot stopped.\")"
   ]
  },
  {
   "cell_type": "markdown",
   "metadata": {},
   "source": [
    "### Main code"
   ]
  },
  {
   "cell_type": "code",
   "execution_count": 13,
   "metadata": {},
   "outputs": [
    {
     "name": "stdout",
     "output_type": "stream",
     "text": [
      "[INFO] [1746805650.442722, 2439.342000]: Waiting for action server...\n",
      "[INFO] [1746805650.490433, 2439.388000]: Action server ready.\n"
     ]
    }
   ],
   "source": [
    "# Register a event for a button\n",
    "send_goal_button.on_click(send_goal_handler)\n",
    "cancel_goal_button.on_click(cancel_goal_handler)\n",
    "\n",
    "rospy.init_node('jupyter_action_client', anonymous=False)\n",
    "\n",
    "# Initialize publishers and subscriber\n",
    "robot_state_pub = rospy.Publisher('/robot_state', PositionVelocity, queue_size=10)\n",
    "cmd_vel_pub = rospy.Publisher('/cmd_vel', Twist, queue_size=10)\n",
    "odom_sub = rospy.Subscriber('/odom', Odometry, odom_callback)\n",
    "scan_sub = rospy.Subscriber('/scan', sensor_msgs.msg.LaserScan, scan_callback)\n",
    "\n",
    "# Create the action client\n",
    "goal_client = actionlib.SimpleActionClient('/reaching_goal', PlanningAction)\n",
    "rospy.loginfo(\"Waiting for action server...\")\n",
    "goal_client.wait_for_server()\n",
    "rospy.loginfo(\"Action server ready.\")"
   ]
  }
 ],
 "metadata": {
  "kernelspec": {
   "display_name": "Python 3 (ROS)",
   "language": "python",
   "name": "py3"
  },
  "language_info": {
   "codemirror_mode": {
    "name": "ipython",
    "version": 3
   },
   "file_extension": ".py",
   "mimetype": "text/x-python",
   "name": "python",
   "nbconvert_exporter": "python",
   "pygments_lexer": "ipython3",
   "version": "3.8.5"
  }
 },
 "nbformat": 4,
 "nbformat_minor": 2
}
